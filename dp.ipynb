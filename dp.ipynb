{
  "cells": [
    {
      "cell_type": "code",
      "execution_count": null,
      "metadata": {
        "id": "pwW7cRT7Nm5Y"
      },
      "outputs": [],
      "source": [
        "import numpy as np\n",
        "import pandas as pd\n"
      ]
    },
    {
      "cell_type": "code",
      "execution_count": null,
      "metadata": {
        "colab": {
          "base_uri": "https://localhost:8080/",
          "height": 73
        },
        "id": "ShAvKJ5gW3F7",
        "outputId": "757d3c50-77de-41ac-80d0-8c53593692bc"
      },
      "outputs": [
        {
          "output_type": "display_data",
          "data": {
            "text/plain": [
              "<IPython.core.display.HTML object>"
            ],
            "text/html": [
              "\n",
              "     <input type=\"file\" id=\"files-a0ed6aba-1922-411a-8949-af08feca290e\" name=\"files[]\" multiple disabled\n",
              "        style=\"border:none\" />\n",
              "     <output id=\"result-a0ed6aba-1922-411a-8949-af08feca290e\">\n",
              "      Upload widget is only available when the cell has been executed in the\n",
              "      current browser session. Please rerun this cell to enable.\n",
              "      </output>\n",
              "      <script>// Copyright 2017 Google LLC\n",
              "//\n",
              "// Licensed under the Apache License, Version 2.0 (the \"License\");\n",
              "// you may not use this file except in compliance with the License.\n",
              "// You may obtain a copy of the License at\n",
              "//\n",
              "//      http://www.apache.org/licenses/LICENSE-2.0\n",
              "//\n",
              "// Unless required by applicable law or agreed to in writing, software\n",
              "// distributed under the License is distributed on an \"AS IS\" BASIS,\n",
              "// WITHOUT WARRANTIES OR CONDITIONS OF ANY KIND, either express or implied.\n",
              "// See the License for the specific language governing permissions and\n",
              "// limitations under the License.\n",
              "\n",
              "/**\n",
              " * @fileoverview Helpers for google.colab Python module.\n",
              " */\n",
              "(function(scope) {\n",
              "function span(text, styleAttributes = {}) {\n",
              "  const element = document.createElement('span');\n",
              "  element.textContent = text;\n",
              "  for (const key of Object.keys(styleAttributes)) {\n",
              "    element.style[key] = styleAttributes[key];\n",
              "  }\n",
              "  return element;\n",
              "}\n",
              "\n",
              "// Max number of bytes which will be uploaded at a time.\n",
              "const MAX_PAYLOAD_SIZE = 100 * 1024;\n",
              "\n",
              "function _uploadFiles(inputId, outputId) {\n",
              "  const steps = uploadFilesStep(inputId, outputId);\n",
              "  const outputElement = document.getElementById(outputId);\n",
              "  // Cache steps on the outputElement to make it available for the next call\n",
              "  // to uploadFilesContinue from Python.\n",
              "  outputElement.steps = steps;\n",
              "\n",
              "  return _uploadFilesContinue(outputId);\n",
              "}\n",
              "\n",
              "// This is roughly an async generator (not supported in the browser yet),\n",
              "// where there are multiple asynchronous steps and the Python side is going\n",
              "// to poll for completion of each step.\n",
              "// This uses a Promise to block the python side on completion of each step,\n",
              "// then passes the result of the previous step as the input to the next step.\n",
              "function _uploadFilesContinue(outputId) {\n",
              "  const outputElement = document.getElementById(outputId);\n",
              "  const steps = outputElement.steps;\n",
              "\n",
              "  const next = steps.next(outputElement.lastPromiseValue);\n",
              "  return Promise.resolve(next.value.promise).then((value) => {\n",
              "    // Cache the last promise value to make it available to the next\n",
              "    // step of the generator.\n",
              "    outputElement.lastPromiseValue = value;\n",
              "    return next.value.response;\n",
              "  });\n",
              "}\n",
              "\n",
              "/**\n",
              " * Generator function which is called between each async step of the upload\n",
              " * process.\n",
              " * @param {string} inputId Element ID of the input file picker element.\n",
              " * @param {string} outputId Element ID of the output display.\n",
              " * @return {!Iterable<!Object>} Iterable of next steps.\n",
              " */\n",
              "function* uploadFilesStep(inputId, outputId) {\n",
              "  const inputElement = document.getElementById(inputId);\n",
              "  inputElement.disabled = false;\n",
              "\n",
              "  const outputElement = document.getElementById(outputId);\n",
              "  outputElement.innerHTML = '';\n",
              "\n",
              "  const pickedPromise = new Promise((resolve) => {\n",
              "    inputElement.addEventListener('change', (e) => {\n",
              "      resolve(e.target.files);\n",
              "    });\n",
              "  });\n",
              "\n",
              "  const cancel = document.createElement('button');\n",
              "  inputElement.parentElement.appendChild(cancel);\n",
              "  cancel.textContent = 'Cancel upload';\n",
              "  const cancelPromise = new Promise((resolve) => {\n",
              "    cancel.onclick = () => {\n",
              "      resolve(null);\n",
              "    };\n",
              "  });\n",
              "\n",
              "  // Wait for the user to pick the files.\n",
              "  const files = yield {\n",
              "    promise: Promise.race([pickedPromise, cancelPromise]),\n",
              "    response: {\n",
              "      action: 'starting',\n",
              "    }\n",
              "  };\n",
              "\n",
              "  cancel.remove();\n",
              "\n",
              "  // Disable the input element since further picks are not allowed.\n",
              "  inputElement.disabled = true;\n",
              "\n",
              "  if (!files) {\n",
              "    return {\n",
              "      response: {\n",
              "        action: 'complete',\n",
              "      }\n",
              "    };\n",
              "  }\n",
              "\n",
              "  for (const file of files) {\n",
              "    const li = document.createElement('li');\n",
              "    li.append(span(file.name, {fontWeight: 'bold'}));\n",
              "    li.append(span(\n",
              "        `(${file.type || 'n/a'}) - ${file.size} bytes, ` +\n",
              "        `last modified: ${\n",
              "            file.lastModifiedDate ? file.lastModifiedDate.toLocaleDateString() :\n",
              "                                    'n/a'} - `));\n",
              "    const percent = span('0% done');\n",
              "    li.appendChild(percent);\n",
              "\n",
              "    outputElement.appendChild(li);\n",
              "\n",
              "    const fileDataPromise = new Promise((resolve) => {\n",
              "      const reader = new FileReader();\n",
              "      reader.onload = (e) => {\n",
              "        resolve(e.target.result);\n",
              "      };\n",
              "      reader.readAsArrayBuffer(file);\n",
              "    });\n",
              "    // Wait for the data to be ready.\n",
              "    let fileData = yield {\n",
              "      promise: fileDataPromise,\n",
              "      response: {\n",
              "        action: 'continue',\n",
              "      }\n",
              "    };\n",
              "\n",
              "    // Use a chunked sending to avoid message size limits. See b/62115660.\n",
              "    let position = 0;\n",
              "    do {\n",
              "      const length = Math.min(fileData.byteLength - position, MAX_PAYLOAD_SIZE);\n",
              "      const chunk = new Uint8Array(fileData, position, length);\n",
              "      position += length;\n",
              "\n",
              "      const base64 = btoa(String.fromCharCode.apply(null, chunk));\n",
              "      yield {\n",
              "        response: {\n",
              "          action: 'append',\n",
              "          file: file.name,\n",
              "          data: base64,\n",
              "        },\n",
              "      };\n",
              "\n",
              "      let percentDone = fileData.byteLength === 0 ?\n",
              "          100 :\n",
              "          Math.round((position / fileData.byteLength) * 100);\n",
              "      percent.textContent = `${percentDone}% done`;\n",
              "\n",
              "    } while (position < fileData.byteLength);\n",
              "  }\n",
              "\n",
              "  // All done.\n",
              "  yield {\n",
              "    response: {\n",
              "      action: 'complete',\n",
              "    }\n",
              "  };\n",
              "}\n",
              "\n",
              "scope.google = scope.google || {};\n",
              "scope.google.colab = scope.google.colab || {};\n",
              "scope.google.colab._files = {\n",
              "  _uploadFiles,\n",
              "  _uploadFilesContinue,\n",
              "};\n",
              "})(self);\n",
              "</script> "
            ]
          },
          "metadata": {}
        },
        {
          "output_type": "stream",
          "name": "stdout",
          "text": [
            "Saving diabetes.csv to diabetes.csv\n"
          ]
        }
      ],
      "source": [
        "from google.colab import files\n",
        "\n",
        "# Upload the dataset file\n",
        "uploaded = files.upload()\n"
      ]
    },
    {
      "cell_type": "code",
      "execution_count": null,
      "metadata": {
        "colab": {
          "base_uri": "https://localhost:8080/",
          "height": 36
        },
        "id": "79H9msqzXLqB",
        "outputId": "4255482f-7c93-44b5-d3a8-dd9e71eee290"
      },
      "outputs": [
        {
          "output_type": "execute_result",
          "data": {
            "text/plain": [
              "'datasets/diabetes.csv'"
            ],
            "application/vnd.google.colaboratory.intrinsic+json": {
              "type": "string"
            }
          },
          "metadata": {},
          "execution_count": 21
        }
      ],
      "source": [
        "import shutil\n",
        "\n",
        "# Create a directory if it doesn't exist\n",
        "!mkdir -p datasets\n",
        "\n",
        "# Move the uploaded file to the specified directory\n",
        "shutil.move(\"diabetes.csv\", \"datasets/diabetes.csv\")\n"
      ]
    },
    {
      "cell_type": "code",
      "execution_count": null,
      "metadata": {
        "colab": {
          "base_uri": "https://localhost:8080/",
          "height": 363
        },
        "id": "tUCMmcPuXZN4",
        "outputId": "8b14b8d9-056e-41ac-9acb-e47c570408ce"
      },
      "outputs": [
        {
          "output_type": "execute_result",
          "data": {
            "text/plain": [
              "              Name  Pregnancies  BloodPressure  SkinThickness  Insulin   BMI  \\\n",
              "0          shivani            6             72             35        0  33.6   \n",
              "1             isha            1             66             29        0  26.6   \n",
              "2  smt shyani devi            8             64              0        0  23.3   \n",
              "3            divya            1             66             23       94  28.1   \n",
              "4            mansi            0             40             35      168  43.1   \n",
              "5           mazida            5             74              0        0  25.6   \n",
              "6            pooja            3             50             32       88  31.0   \n",
              "7            kajal           10              0              0        0  35.3   \n",
              "8            meena            2             70             45      543  30.5   \n",
              "9            sonam            8             96              0        0   0.0   \n",
              "\n",
              "   DiabetesPedigreeFunction  Glucose  Age  Outcome  \n",
              "0                     0.627      148   50     True  \n",
              "1                     0.351       85   31    False  \n",
              "2                     0.672      183   32     True  \n",
              "3                     0.167       89   21    False  \n",
              "4                     2.288      137   33     True  \n",
              "5                     0.201      116   30    False  \n",
              "6                     0.248       78   26     True  \n",
              "7                     0.134      115   29    False  \n",
              "8                     0.158      197   53     True  \n",
              "9                     0.232      125   54     True  "
            ],
            "text/html": [
              "\n",
              "  <div id=\"df-bd481645-3f16-4dbc-9c57-39f3c11b4462\" class=\"colab-df-container\">\n",
              "    <div>\n",
              "<style scoped>\n",
              "    .dataframe tbody tr th:only-of-type {\n",
              "        vertical-align: middle;\n",
              "    }\n",
              "\n",
              "    .dataframe tbody tr th {\n",
              "        vertical-align: top;\n",
              "    }\n",
              "\n",
              "    .dataframe thead th {\n",
              "        text-align: right;\n",
              "    }\n",
              "</style>\n",
              "<table border=\"1\" class=\"dataframe\">\n",
              "  <thead>\n",
              "    <tr style=\"text-align: right;\">\n",
              "      <th></th>\n",
              "      <th>Name</th>\n",
              "      <th>Pregnancies</th>\n",
              "      <th>BloodPressure</th>\n",
              "      <th>SkinThickness</th>\n",
              "      <th>Insulin</th>\n",
              "      <th>BMI</th>\n",
              "      <th>DiabetesPedigreeFunction</th>\n",
              "      <th>Glucose</th>\n",
              "      <th>Age</th>\n",
              "      <th>Outcome</th>\n",
              "    </tr>\n",
              "  </thead>\n",
              "  <tbody>\n",
              "    <tr>\n",
              "      <th>0</th>\n",
              "      <td>shivani</td>\n",
              "      <td>6</td>\n",
              "      <td>72</td>\n",
              "      <td>35</td>\n",
              "      <td>0</td>\n",
              "      <td>33.6</td>\n",
              "      <td>0.627</td>\n",
              "      <td>148</td>\n",
              "      <td>50</td>\n",
              "      <td>True</td>\n",
              "    </tr>\n",
              "    <tr>\n",
              "      <th>1</th>\n",
              "      <td>isha</td>\n",
              "      <td>1</td>\n",
              "      <td>66</td>\n",
              "      <td>29</td>\n",
              "      <td>0</td>\n",
              "      <td>26.6</td>\n",
              "      <td>0.351</td>\n",
              "      <td>85</td>\n",
              "      <td>31</td>\n",
              "      <td>False</td>\n",
              "    </tr>\n",
              "    <tr>\n",
              "      <th>2</th>\n",
              "      <td>smt shyani devi</td>\n",
              "      <td>8</td>\n",
              "      <td>64</td>\n",
              "      <td>0</td>\n",
              "      <td>0</td>\n",
              "      <td>23.3</td>\n",
              "      <td>0.672</td>\n",
              "      <td>183</td>\n",
              "      <td>32</td>\n",
              "      <td>True</td>\n",
              "    </tr>\n",
              "    <tr>\n",
              "      <th>3</th>\n",
              "      <td>divya</td>\n",
              "      <td>1</td>\n",
              "      <td>66</td>\n",
              "      <td>23</td>\n",
              "      <td>94</td>\n",
              "      <td>28.1</td>\n",
              "      <td>0.167</td>\n",
              "      <td>89</td>\n",
              "      <td>21</td>\n",
              "      <td>False</td>\n",
              "    </tr>\n",
              "    <tr>\n",
              "      <th>4</th>\n",
              "      <td>mansi</td>\n",
              "      <td>0</td>\n",
              "      <td>40</td>\n",
              "      <td>35</td>\n",
              "      <td>168</td>\n",
              "      <td>43.1</td>\n",
              "      <td>2.288</td>\n",
              "      <td>137</td>\n",
              "      <td>33</td>\n",
              "      <td>True</td>\n",
              "    </tr>\n",
              "    <tr>\n",
              "      <th>5</th>\n",
              "      <td>mazida</td>\n",
              "      <td>5</td>\n",
              "      <td>74</td>\n",
              "      <td>0</td>\n",
              "      <td>0</td>\n",
              "      <td>25.6</td>\n",
              "      <td>0.201</td>\n",
              "      <td>116</td>\n",
              "      <td>30</td>\n",
              "      <td>False</td>\n",
              "    </tr>\n",
              "    <tr>\n",
              "      <th>6</th>\n",
              "      <td>pooja</td>\n",
              "      <td>3</td>\n",
              "      <td>50</td>\n",
              "      <td>32</td>\n",
              "      <td>88</td>\n",
              "      <td>31.0</td>\n",
              "      <td>0.248</td>\n",
              "      <td>78</td>\n",
              "      <td>26</td>\n",
              "      <td>True</td>\n",
              "    </tr>\n",
              "    <tr>\n",
              "      <th>7</th>\n",
              "      <td>kajal</td>\n",
              "      <td>10</td>\n",
              "      <td>0</td>\n",
              "      <td>0</td>\n",
              "      <td>0</td>\n",
              "      <td>35.3</td>\n",
              "      <td>0.134</td>\n",
              "      <td>115</td>\n",
              "      <td>29</td>\n",
              "      <td>False</td>\n",
              "    </tr>\n",
              "    <tr>\n",
              "      <th>8</th>\n",
              "      <td>meena</td>\n",
              "      <td>2</td>\n",
              "      <td>70</td>\n",
              "      <td>45</td>\n",
              "      <td>543</td>\n",
              "      <td>30.5</td>\n",
              "      <td>0.158</td>\n",
              "      <td>197</td>\n",
              "      <td>53</td>\n",
              "      <td>True</td>\n",
              "    </tr>\n",
              "    <tr>\n",
              "      <th>9</th>\n",
              "      <td>sonam</td>\n",
              "      <td>8</td>\n",
              "      <td>96</td>\n",
              "      <td>0</td>\n",
              "      <td>0</td>\n",
              "      <td>0.0</td>\n",
              "      <td>0.232</td>\n",
              "      <td>125</td>\n",
              "      <td>54</td>\n",
              "      <td>True</td>\n",
              "    </tr>\n",
              "  </tbody>\n",
              "</table>\n",
              "</div>\n",
              "    <div class=\"colab-df-buttons\">\n",
              "\n",
              "  <div class=\"colab-df-container\">\n",
              "    <button class=\"colab-df-convert\" onclick=\"convertToInteractive('df-bd481645-3f16-4dbc-9c57-39f3c11b4462')\"\n",
              "            title=\"Convert this dataframe to an interactive table.\"\n",
              "            style=\"display:none;\">\n",
              "\n",
              "  <svg xmlns=\"http://www.w3.org/2000/svg\" height=\"24px\" viewBox=\"0 -960 960 960\">\n",
              "    <path d=\"M120-120v-720h720v720H120Zm60-500h600v-160H180v160Zm220 220h160v-160H400v160Zm0 220h160v-160H400v160ZM180-400h160v-160H180v160Zm440 0h160v-160H620v160ZM180-180h160v-160H180v160Zm440 0h160v-160H620v160Z\"/>\n",
              "  </svg>\n",
              "    </button>\n",
              "\n",
              "  <style>\n",
              "    .colab-df-container {\n",
              "      display:flex;\n",
              "      gap: 12px;\n",
              "    }\n",
              "\n",
              "    .colab-df-convert {\n",
              "      background-color: #E8F0FE;\n",
              "      border: none;\n",
              "      border-radius: 50%;\n",
              "      cursor: pointer;\n",
              "      display: none;\n",
              "      fill: #1967D2;\n",
              "      height: 32px;\n",
              "      padding: 0 0 0 0;\n",
              "      width: 32px;\n",
              "    }\n",
              "\n",
              "    .colab-df-convert:hover {\n",
              "      background-color: #E2EBFA;\n",
              "      box-shadow: 0px 1px 2px rgba(60, 64, 67, 0.3), 0px 1px 3px 1px rgba(60, 64, 67, 0.15);\n",
              "      fill: #174EA6;\n",
              "    }\n",
              "\n",
              "    .colab-df-buttons div {\n",
              "      margin-bottom: 4px;\n",
              "    }\n",
              "\n",
              "    [theme=dark] .colab-df-convert {\n",
              "      background-color: #3B4455;\n",
              "      fill: #D2E3FC;\n",
              "    }\n",
              "\n",
              "    [theme=dark] .colab-df-convert:hover {\n",
              "      background-color: #434B5C;\n",
              "      box-shadow: 0px 1px 3px 1px rgba(0, 0, 0, 0.15);\n",
              "      filter: drop-shadow(0px 1px 2px rgba(0, 0, 0, 0.3));\n",
              "      fill: #FFFFFF;\n",
              "    }\n",
              "  </style>\n",
              "\n",
              "    <script>\n",
              "      const buttonEl =\n",
              "        document.querySelector('#df-bd481645-3f16-4dbc-9c57-39f3c11b4462 button.colab-df-convert');\n",
              "      buttonEl.style.display =\n",
              "        google.colab.kernel.accessAllowed ? 'block' : 'none';\n",
              "\n",
              "      async function convertToInteractive(key) {\n",
              "        const element = document.querySelector('#df-bd481645-3f16-4dbc-9c57-39f3c11b4462');\n",
              "        const dataTable =\n",
              "          await google.colab.kernel.invokeFunction('convertToInteractive',\n",
              "                                                    [key], {});\n",
              "        if (!dataTable) return;\n",
              "\n",
              "        const docLinkHtml = 'Like what you see? Visit the ' +\n",
              "          '<a target=\"_blank\" href=https://colab.research.google.com/notebooks/data_table.ipynb>data table notebook</a>'\n",
              "          + ' to learn more about interactive tables.';\n",
              "        element.innerHTML = '';\n",
              "        dataTable['output_type'] = 'display_data';\n",
              "        await google.colab.output.renderOutput(dataTable, element);\n",
              "        const docLink = document.createElement('div');\n",
              "        docLink.innerHTML = docLinkHtml;\n",
              "        element.appendChild(docLink);\n",
              "      }\n",
              "    </script>\n",
              "  </div>\n",
              "\n",
              "\n",
              "<div id=\"df-7e5457e0-dc8a-4449-b4a2-242c379aacff\">\n",
              "  <button class=\"colab-df-quickchart\" onclick=\"quickchart('df-7e5457e0-dc8a-4449-b4a2-242c379aacff')\"\n",
              "            title=\"Suggest charts.\"\n",
              "            style=\"display:none;\">\n",
              "\n",
              "<svg xmlns=\"http://www.w3.org/2000/svg\" height=\"24px\"viewBox=\"0 0 24 24\"\n",
              "     width=\"24px\">\n",
              "    <g>\n",
              "        <path d=\"M19 3H5c-1.1 0-2 .9-2 2v14c0 1.1.9 2 2 2h14c1.1 0 2-.9 2-2V5c0-1.1-.9-2-2-2zM9 17H7v-7h2v7zm4 0h-2V7h2v10zm4 0h-2v-4h2v4z\"/>\n",
              "    </g>\n",
              "</svg>\n",
              "  </button>\n",
              "\n",
              "<style>\n",
              "  .colab-df-quickchart {\n",
              "      --bg-color: #E8F0FE;\n",
              "      --fill-color: #1967D2;\n",
              "      --hover-bg-color: #E2EBFA;\n",
              "      --hover-fill-color: #174EA6;\n",
              "      --disabled-fill-color: #AAA;\n",
              "      --disabled-bg-color: #DDD;\n",
              "  }\n",
              "\n",
              "  [theme=dark] .colab-df-quickchart {\n",
              "      --bg-color: #3B4455;\n",
              "      --fill-color: #D2E3FC;\n",
              "      --hover-bg-color: #434B5C;\n",
              "      --hover-fill-color: #FFFFFF;\n",
              "      --disabled-bg-color: #3B4455;\n",
              "      --disabled-fill-color: #666;\n",
              "  }\n",
              "\n",
              "  .colab-df-quickchart {\n",
              "    background-color: var(--bg-color);\n",
              "    border: none;\n",
              "    border-radius: 50%;\n",
              "    cursor: pointer;\n",
              "    display: none;\n",
              "    fill: var(--fill-color);\n",
              "    height: 32px;\n",
              "    padding: 0;\n",
              "    width: 32px;\n",
              "  }\n",
              "\n",
              "  .colab-df-quickchart:hover {\n",
              "    background-color: var(--hover-bg-color);\n",
              "    box-shadow: 0 1px 2px rgba(60, 64, 67, 0.3), 0 1px 3px 1px rgba(60, 64, 67, 0.15);\n",
              "    fill: var(--button-hover-fill-color);\n",
              "  }\n",
              "\n",
              "  .colab-df-quickchart-complete:disabled,\n",
              "  .colab-df-quickchart-complete:disabled:hover {\n",
              "    background-color: var(--disabled-bg-color);\n",
              "    fill: var(--disabled-fill-color);\n",
              "    box-shadow: none;\n",
              "  }\n",
              "\n",
              "  .colab-df-spinner {\n",
              "    border: 2px solid var(--fill-color);\n",
              "    border-color: transparent;\n",
              "    border-bottom-color: var(--fill-color);\n",
              "    animation:\n",
              "      spin 1s steps(1) infinite;\n",
              "  }\n",
              "\n",
              "  @keyframes spin {\n",
              "    0% {\n",
              "      border-color: transparent;\n",
              "      border-bottom-color: var(--fill-color);\n",
              "      border-left-color: var(--fill-color);\n",
              "    }\n",
              "    20% {\n",
              "      border-color: transparent;\n",
              "      border-left-color: var(--fill-color);\n",
              "      border-top-color: var(--fill-color);\n",
              "    }\n",
              "    30% {\n",
              "      border-color: transparent;\n",
              "      border-left-color: var(--fill-color);\n",
              "      border-top-color: var(--fill-color);\n",
              "      border-right-color: var(--fill-color);\n",
              "    }\n",
              "    40% {\n",
              "      border-color: transparent;\n",
              "      border-right-color: var(--fill-color);\n",
              "      border-top-color: var(--fill-color);\n",
              "    }\n",
              "    60% {\n",
              "      border-color: transparent;\n",
              "      border-right-color: var(--fill-color);\n",
              "    }\n",
              "    80% {\n",
              "      border-color: transparent;\n",
              "      border-right-color: var(--fill-color);\n",
              "      border-bottom-color: var(--fill-color);\n",
              "    }\n",
              "    90% {\n",
              "      border-color: transparent;\n",
              "      border-bottom-color: var(--fill-color);\n",
              "    }\n",
              "  }\n",
              "</style>\n",
              "\n",
              "  <script>\n",
              "    async function quickchart(key) {\n",
              "      const quickchartButtonEl =\n",
              "        document.querySelector('#' + key + ' button');\n",
              "      quickchartButtonEl.disabled = true;  // To prevent multiple clicks.\n",
              "      quickchartButtonEl.classList.add('colab-df-spinner');\n",
              "      try {\n",
              "        const charts = await google.colab.kernel.invokeFunction(\n",
              "            'suggestCharts', [key], {});\n",
              "      } catch (error) {\n",
              "        console.error('Error during call to suggestCharts:', error);\n",
              "      }\n",
              "      quickchartButtonEl.classList.remove('colab-df-spinner');\n",
              "      quickchartButtonEl.classList.add('colab-df-quickchart-complete');\n",
              "    }\n",
              "    (() => {\n",
              "      let quickchartButtonEl =\n",
              "        document.querySelector('#df-7e5457e0-dc8a-4449-b4a2-242c379aacff button');\n",
              "      quickchartButtonEl.style.display =\n",
              "        google.colab.kernel.accessAllowed ? 'block' : 'none';\n",
              "    })();\n",
              "  </script>\n",
              "</div>\n",
              "    </div>\n",
              "  </div>\n"
            ]
          },
          "metadata": {},
          "execution_count": 22
        }
      ],
      "source": [
        "# Load the dataset\n",
        "df = pd.read_csv('datasets/diabetes.csv')\n",
        "\n",
        "\n",
        "# Display the first few rows\n",
        "df.head(10)\n"
      ]
    },
    {
      "cell_type": "code",
      "execution_count": null,
      "metadata": {
        "colab": {
          "base_uri": "https://localhost:8080/"
        },
        "id": "qhr8aWNchAVo",
        "outputId": "be10def8-b960-46fd-f9dd-8acc0de83719"
      },
      "outputs": [
        {
          "output_type": "stream",
          "name": "stdout",
          "text": [
            "\n",
            "Original Dataset:\n",
            "                Name  Pregnancies  BloodPressure  SkinThickness  Insulin  \\\n",
            "0            shivani            6             72             35        0   \n",
            "1               isha            1             66             29        0   \n",
            "2    smt shyani devi            8             64              0        0   \n",
            "3              divya            1             66             23       94   \n",
            "4              mansi            0             40             35      168   \n",
            "..               ...          ...            ...            ...      ...   \n",
            "763            pooja           10             76             48      180   \n",
            "764            anita            2             70             27        0   \n",
            "765            neetu            5             72             23      112   \n",
            "766           anshu             1             60              0        0   \n",
            "767  kanika kathuria            1             70             31        0   \n",
            "\n",
            "      BMI  DiabetesPedigreeFunction  Glucose  Age  Outcome  \n",
            "0    33.6                     0.627      148   50     True  \n",
            "1    26.6                     0.351       85   31    False  \n",
            "2    23.3                     0.672      183   32     True  \n",
            "3    28.1                     0.167       89   21    False  \n",
            "4    43.1                     2.288      137   33     True  \n",
            "..    ...                       ...      ...  ...      ...  \n",
            "763  32.9                     0.171      101   63    False  \n",
            "764  36.8                     0.340      122   27    False  \n",
            "765  26.2                     0.245      121   30    False  \n",
            "766  30.1                     0.349      126   47     True  \n",
            "767  30.4                     0.315       93   23    False  \n",
            "\n",
            "[768 rows x 10 columns]\n",
            "\n",
            "Redacted Dataset:\n",
            "                Name  Pregnancies  BloodPressure  SkinThickness  Insulin  \\\n",
            "0            shivani            6             72             35        0   \n",
            "2    smt shyani devi            8             64              0        0   \n",
            "3              divya            1             66             23       94   \n",
            "4              mansi            0             40             35      168   \n",
            "5             mazida            5             74              0        0   \n",
            "..               ...          ...            ...            ...      ...   \n",
            "763            pooja           10             76             48      180   \n",
            "764            anita            2             70             27        0   \n",
            "765            neetu            5             72             23      112   \n",
            "766           anshu             1             60              0        0   \n",
            "767  kanika kathuria            1             70             31        0   \n",
            "\n",
            "      BMI  DiabetesPedigreeFunction  Glucose  Age  Outcome  \n",
            "0    33.6                     0.627      148   50     True  \n",
            "2    23.3                     0.672      183   32     True  \n",
            "3    28.1                     0.167       89   21    False  \n",
            "4    43.1                     2.288      137   33     True  \n",
            "5    25.6                     0.201      116   30    False  \n",
            "..    ...                       ...      ...  ...      ...  \n",
            "763  32.9                     0.171      101   63    False  \n",
            "764  36.8                     0.340      122   27    False  \n",
            "765  26.2                     0.245      121   30    False  \n",
            "766  30.1                     0.349      126   47     True  \n",
            "767  30.4                     0.315       93   23    False  \n",
            "\n",
            "[767 rows x 10 columns]\n"
          ]
        }
      ],
      "source": [
        "original_dataset=df\n",
        "print(\"\\nOriginal Dataset:\")\n",
        "print(original_dataset)\n",
        "index_to_remove = 1\n",
        "redact_dataset = original_dataset.copy()  # Correctly call the copy method\n",
        "redact_dataset.drop(original_dataset.index[index_to_remove], inplace=True)\n",
        "# Display the DataFrame after deleting the row\n",
        "print(\"\\nRedacted Dataset:\")\n",
        "print(redact_dataset)"
      ]
    },
    {
      "cell_type": "code",
      "execution_count": null,
      "metadata": {
        "colab": {
          "base_uri": "https://localhost:8080/"
        },
        "id": "fnjvH7XrVM2V",
        "outputId": "3f98a929-7b3d-44f0-f2fa-99fa43f44d6e"
      },
      "outputs": [
        {
          "output_type": "stream",
          "name": "stdout",
          "text": [
            "Original Dataset:\n",
            "                Name  Pregnancies  BloodPressure  SkinThickness  Insulin  \\\n",
            "0            shivani            6             72             35        0   \n",
            "1               isha            1             66             29        0   \n",
            "2    smt shyani devi            8             64              0        0   \n",
            "3              divya            1             66             23       94   \n",
            "4              mansi            0             40             35      168   \n",
            "..               ...          ...            ...            ...      ...   \n",
            "763            pooja           10             76             48      180   \n",
            "764            anita            2             70             27        0   \n",
            "765            neetu            5             72             23      112   \n",
            "766           anshu             1             60              0        0   \n",
            "767  kanika kathuria            1             70             31        0   \n",
            "\n",
            "      BMI  DiabetesPedigreeFunction  Glucose  Age  Outcome  \n",
            "0    33.6                     0.627      148   50     True  \n",
            "1    26.6                     0.351       85   31    False  \n",
            "2    23.3                     0.672      183   32     True  \n",
            "3    28.1                     0.167       89   21    False  \n",
            "4    43.1                     2.288      137   33     True  \n",
            "..    ...                       ...      ...  ...      ...  \n",
            "763  32.9                     0.171      101   63    False  \n",
            "764  36.8                     0.340      122   27    False  \n",
            "765  26.2                     0.245      121   30    False  \n",
            "766  30.1                     0.349      126   47     True  \n",
            "767  30.4                     0.315       93   23    False  \n",
            "\n",
            "[768 rows x 10 columns]\n",
            "\n",
            "Percentage of True values: 34.89583333333333\n",
            "Percentage of False values: 65.10416666666666\n"
          ]
        }
      ],
      "source": [
        "print(\"Original Dataset:\")\n",
        "print(df)\n",
        "\n",
        "# Find the percentage of True and False values\n",
        "value_counts = df['Outcome'].value_counts(normalize=True)  # normalize=True gives the percentages\n",
        "percentage_true = value_counts.get(True, 0) * 100\n",
        "percentage_false = value_counts.get(False, 0) * 100\n",
        "\n",
        "# Display the results\n",
        "print(\"\\nPercentage of True values:\", percentage_true)\n",
        "print(\"Percentage of False values:\", percentage_false)"
      ]
    },
    {
      "cell_type": "code",
      "execution_count": null,
      "metadata": {
        "colab": {
          "base_uri": "https://localhost:8080/"
        },
        "id": "G22bmRz9ee7k",
        "outputId": "af8cb895-ed3e-4cbf-c0bc-0bbd032b9e37"
      },
      "outputs": [
        {
          "output_type": "stream",
          "name": "stdout",
          "text": [
            "Redacted Dataset:\n",
            "                Name  Pregnancies  BloodPressure  SkinThickness  Insulin  \\\n",
            "0            shivani            6             72             35        0   \n",
            "2    smt shyani devi            8             64              0        0   \n",
            "3              divya            1             66             23       94   \n",
            "4              mansi            0             40             35      168   \n",
            "5             mazida            5             74              0        0   \n",
            "..               ...          ...            ...            ...      ...   \n",
            "763            pooja           10             76             48      180   \n",
            "764            anita            2             70             27        0   \n",
            "765            neetu            5             72             23      112   \n",
            "766           anshu             1             60              0        0   \n",
            "767  kanika kathuria            1             70             31        0   \n",
            "\n",
            "      BMI  DiabetesPedigreeFunction  Glucose  Age  Outcome  \n",
            "0    33.6                     0.627      148   50     True  \n",
            "2    23.3                     0.672      183   32     True  \n",
            "3    28.1                     0.167       89   21    False  \n",
            "4    43.1                     2.288      137   33     True  \n",
            "5    25.6                     0.201      116   30    False  \n",
            "..    ...                       ...      ...  ...      ...  \n",
            "763  32.9                     0.171      101   63    False  \n",
            "764  36.8                     0.340      122   27    False  \n",
            "765  26.2                     0.245      121   30    False  \n",
            "766  30.1                     0.349      126   47     True  \n",
            "767  30.4                     0.315       93   23    False  \n",
            "\n",
            "[767 rows x 10 columns]\n",
            "\n",
            "Percentage of True values: 34.94132985658409\n",
            "Percentage of False values: 65.05867014341591\n"
          ]
        }
      ],
      "source": [
        "print(\"Redacted Dataset:\")\n",
        "print(redact_dataset)\n",
        "\n",
        "# Find the percentage of True and False values\n",
        "value_counts = redact_dataset['Outcome'].value_counts(normalize=True)  # normalize=True gives the percentages\n",
        "percentage_true = value_counts.get(True, 0) * 100\n",
        "percentage_false = value_counts.get(False, 0) * 100\n",
        "\n",
        "# Display the results\n",
        "print(\"\\nPercentage of True values:\", percentage_true)\n",
        "print(\"Percentage of False values:\", percentage_false)"
      ]
    },
    {
      "cell_type": "code",
      "execution_count": null,
      "metadata": {
        "colab": {
          "base_uri": "https://localhost:8080/"
        },
        "id": "Ji3K5B8nf7Xu",
        "outputId": "b785c7f7-2850-476d-ec1f-a2bfbdd54b22"
      },
      "outputs": [
        {
          "output_type": "stream",
          "name": "stdout",
          "text": [
            "Original DataFrame:\n",
            "                Name  Pregnancies  BloodPressure  SkinThickness  Insulin  \\\n",
            "0            shivani            6             72             35        0   \n",
            "1               isha            1             66             29        0   \n",
            "2    smt shyani devi            8             64              0        0   \n",
            "3              divya            1             66             23       94   \n",
            "4              mansi            0             40             35      168   \n",
            "..               ...          ...            ...            ...      ...   \n",
            "763            pooja           10             76             48      180   \n",
            "764            anita            2             70             27        0   \n",
            "765            neetu            5             72             23      112   \n",
            "766           anshu             1             60              0        0   \n",
            "767  kanika kathuria            1             70             31        0   \n",
            "\n",
            "      BMI  DiabetesPedigreeFunction  Glucose  Age  Outcome  \n",
            "0    33.6                     0.627      148   50     True  \n",
            "1    26.6                     0.351       85   31    False  \n",
            "2    23.3                     0.672      183   32     True  \n",
            "3    28.1                     0.167       89   21    False  \n",
            "4    43.1                     2.288      137   33     True  \n",
            "..    ...                       ...      ...  ...      ...  \n",
            "763  32.9                     0.171      101   63    False  \n",
            "764  36.8                     0.340      122   27    False  \n",
            "765  26.2                     0.245      121   30    False  \n",
            "766  30.1                     0.349      126   47     True  \n",
            "767  30.4                     0.315       93   23    False  \n",
            "\n",
            "[768 rows x 10 columns]\n",
            "\n",
            "Original Counts:\n",
            "False    500\n",
            "True     268\n",
            "Name: Outcome, dtype: int64\n"
          ]
        }
      ],
      "source": [
        "# Display the original DataFrame\n",
        "print(\"Original DataFrame:\")\n",
        "print(df)\n",
        "\n",
        "# Specify the column for which you want to count True and False values\n",
        "column_to_count = 'Outcome'\n",
        "\n",
        "# Use value_counts() to count the occurrences of each unique value\n",
        "original_counts = df[column_to_count].value_counts()\n",
        "\n",
        "# Display the result\n",
        "print(\"\\nOriginal Counts:\")\n",
        "print(original_counts)"
      ]
    },
    {
      "cell_type": "code",
      "execution_count": null,
      "metadata": {
        "colab": {
          "base_uri": "https://localhost:8080/"
        },
        "id": "vdC6fAtngQXz",
        "outputId": "a416ae28-c005-4c40-d4b5-5d39a465fe05"
      },
      "outputs": [
        {
          "output_type": "stream",
          "name": "stdout",
          "text": [
            "Redacted DataFrame:\n",
            "                Name  Pregnancies  BloodPressure  SkinThickness  Insulin  \\\n",
            "0            shivani            6             72             35        0   \n",
            "2    smt shyani devi            8             64              0        0   \n",
            "3              divya            1             66             23       94   \n",
            "4              mansi            0             40             35      168   \n",
            "5             mazida            5             74              0        0   \n",
            "..               ...          ...            ...            ...      ...   \n",
            "763            pooja           10             76             48      180   \n",
            "764            anita            2             70             27        0   \n",
            "765            neetu            5             72             23      112   \n",
            "766           anshu             1             60              0        0   \n",
            "767  kanika kathuria            1             70             31        0   \n",
            "\n",
            "      BMI  DiabetesPedigreeFunction  Glucose  Age  Outcome  \n",
            "0    33.6                     0.627      148   50     True  \n",
            "2    23.3                     0.672      183   32     True  \n",
            "3    28.1                     0.167       89   21    False  \n",
            "4    43.1                     2.288      137   33     True  \n",
            "5    25.6                     0.201      116   30    False  \n",
            "..    ...                       ...      ...  ...      ...  \n",
            "763  32.9                     0.171      101   63    False  \n",
            "764  36.8                     0.340      122   27    False  \n",
            "765  26.2                     0.245      121   30    False  \n",
            "766  30.1                     0.349      126   47     True  \n",
            "767  30.4                     0.315       93   23    False  \n",
            "\n",
            "[767 rows x 10 columns]\n",
            "\n",
            "Redact Counts:\n",
            "False    499\n",
            "True     268\n",
            "Name: Outcome, dtype: int64\n"
          ]
        }
      ],
      "source": [
        "# Display the original DataFrame\n",
        "print(\"Redacted DataFrame:\")\n",
        "print(redact_dataset)\n",
        "\n",
        "# Specify the column for which you want to count True and False values\n",
        "column_to_count = 'Outcome'\n",
        "\n",
        "# Use value_counts() to count the occurrences of each unique value\n",
        "redact_counts = redact_dataset[column_to_count].value_counts()\n",
        "\n",
        "# Display the result\n",
        "print(\"\\nRedact Counts:\")\n",
        "print(redact_counts)"
      ]
    },
    {
      "cell_type": "code",
      "execution_count": null,
      "metadata": {
        "id": "H1S-JFqyoIgG"
      },
      "outputs": [],
      "source": [
        "# Subtract the counts\n",
        "missing_values = original_counts - redact_counts"
      ]
    },
    {
      "cell_type": "code",
      "execution_count": null,
      "metadata": {
        "id": "BlsTp5dRrHXm"
      },
      "outputs": [],
      "source": [
        "# Check if there's a missing row\n",
        "missing_row_contains_true = missing_values.get(True, 0) > 0\n",
        "missing_row_contains_false = missing_values.get(False, 0) > 0"
      ]
    },
    {
      "cell_type": "code",
      "execution_count": null,
      "metadata": {
        "colab": {
          "base_uri": "https://localhost:8080/"
        },
        "id": "xDEZfTvCrMJ3",
        "outputId": "9ae30722-5352-4ac3-ae73-350eefa1fb0f"
      },
      "outputs": [
        {
          "output_type": "stream",
          "name": "stdout",
          "text": [
            "\n",
            "The missing row contains False values.\n"
          ]
        }
      ],
      "source": [
        "# Provide a statement based on the check\n",
        "if missing_row_contains_true:\n",
        "    print(\"\\nThe missing row contains True values.\")\n",
        "elif missing_row_contains_false:\n",
        "    print(\"\\nThe missing row contains False values.\")\n",
        "else:\n",
        "    print(\"\\nNo missing row or missing row has an equal count of True and False values.\")"
      ]
    },
    {
      "cell_type": "code",
      "execution_count": null,
      "metadata": {
        "id": "xZO14hJRrXx7"
      },
      "outputs": [],
      "source": [
        "# Function to add Laplace noise for differential privacy\n",
        "def add_noise(value, sensitivity, epsilon):\n",
        "\n",
        "  # Sensitivity: The maximum amount that one row can influence the output\n",
        "    # Epsilon: The privacy parameter, smaller values provide stronger privacy\n",
        "    scale = sensitivity / epsilon\n",
        "    noise = np.random.laplace(0, scale)\n",
        "    return value + noise"
      ]
    },
    {
      "cell_type": "code",
      "execution_count": null,
      "metadata": {
        "id": "XaGpZza-2qop"
      },
      "outputs": [],
      "source": [
        "# Count True values in the original dataset\n",
        "true_count_original = original_dataset['Outcome'].sum()\n",
        "\n",
        "# Specify sensitivity (1 for counting queries)\n",
        "sensitivity = 1\n",
        "\n",
        "# Specify privacy parameter (adjust as needed)\n",
        "epsilon = 0.1\n"
      ]
    },
    {
      "cell_type": "code",
      "execution_count": null,
      "metadata": {
        "colab": {
          "base_uri": "https://localhost:8080/"
        },
        "id": "btkLr-5h29_j",
        "outputId": "0a7c7469-05d5-44fe-b998-f253d830eec1"
      },
      "outputs": [
        {
          "output_type": "stream",
          "name": "stdout",
          "text": [
            "Original True Count: 268\n",
            "Noisy True Count (Differentially Private): 265.3151493297883\n"
          ]
        }
      ],
      "source": [
        "# Add Laplace noise for differential privacy\n",
        "noisy_true_count = add_noise(true_count_original, sensitivity, epsilon)\n",
        "\n",
        "# Display the original and differentially private counts\n",
        "print(f\"Original True Count: {true_count_original}\")\n",
        "print(f\"Noisy True Count (Differentially Private): {noisy_true_count}\")\n",
        "\n",
        "# Plotting for visualization\n",
        "labels = ['Original True Count', 'Noisy True Count (Differentially Private)']\n",
        "counts = [true_count_original, noisy_true_count]"
      ]
    },
    {
      "cell_type": "code",
      "execution_count": null,
      "metadata": {
        "colab": {
          "base_uri": "https://localhost:8080/",
          "height": 452
        },
        "id": "HLnVK2Go3LW_",
        "outputId": "74ceb9bf-ad30-4b8c-fac0-15b867058da5"
      },
      "outputs": [
        {
          "output_type": "display_data",
          "data": {
            "text/plain": [
              "<Figure size 640x480 with 1 Axes>"
            ],
            "image/png": "[encoded data removed]"
          },
          "metadata": {}
        }
      ],
      "source": [
        "import matplotlib.pyplot as plt\n",
        "plt.bar(labels, counts)\n",
        "plt.ylabel('Count')\n",
        "plt.title('Comparison of True Counts with Differential Privacy')\n",
        "plt.show()"
      ]
    },
    {
      "cell_type": "code",
      "execution_count": null,
      "metadata": {
        "id": "m431moq53_p9"
      },
      "outputs": [],
      "source": [
        "# Count False values in the original dataset\n",
        "false_count_original = (~original_dataset['Outcome']).sum()\n",
        "\n",
        "# Specify sensitivity (1 for counting queries)\n",
        "sensitivity = 1\n",
        "\n",
        "# Specify privacy parameter (adjust as needed)\n",
        "epsilon = 0.1\n"
      ]
    },
    {
      "cell_type": "code",
      "execution_count": null,
      "metadata": {
        "colab": {
          "base_uri": "https://localhost:8080/"
        },
        "id": "6QEqnzxW62_v",
        "outputId": "e3f5e526-8e2d-4cfa-a353-7e038ea7e384"
      },
      "outputs": [
        {
          "output_type": "stream",
          "name": "stdout",
          "text": [
            "Original False Count: 500\n",
            "Noisy False Count (Differentially Private): 504.58544557565943\n"
          ]
        }
      ],
      "source": [
        "# Add Laplace noise for differential privacy\n",
        "noisy_false_count = add_noise(false_count_original, sensitivity, epsilon)\n",
        "\n",
        "# Display the original and differentially private counts\n",
        "print(f\"Original False Count: {false_count_original}\")\n",
        "print(f\"Noisy False Count (Differentially Private): {noisy_false_count}\")\n",
        "\n",
        "# Plotting for visualization\n",
        "labels = ['Original False Count', 'Noisy False Count (Differentially Private)']\n",
        "counts = [false_count_original, noisy_false_count]"
      ]
    },
    {
      "cell_type": "code",
      "execution_count": null,
      "metadata": {
        "colab": {
          "base_uri": "https://localhost:8080/",
          "height": 452
        },
        "id": "0a5ik8H-8VH0",
        "outputId": "3d38dd33-10e2-499e-ef31-186a94b39f4d"
      },
      "outputs": [
        {
          "output_type": "display_data",
          "data": {
            "text/plain": [
              "<Figure size 640x480 with 1 Axes>"
            ],
            "image/png": "[encoded data removed]"
          },
          "metadata": {}
        }
      ],
      "source": [
        "import matplotlib.pyplot as plt\n",
        "plt.bar(labels, counts)\n",
        "plt.ylabel('Count')\n",
        "plt.title('Comparison of False Counts with Differential Privacy')\n",
        "plt.show()"
      ]
    },
    {
      "cell_type": "code",
      "execution_count": null,
      "metadata": {
        "id": "az3HpRLAZ5Vc"
      },
      "outputs": [],
      "source": [
        "#applying randomized response\n",
        "\n",
        "def apply_randomized_response(column, privacy_parameter):\n",
        "    \"\"\"\n",
        "    Apply randomized response to a binary column.\n",
        "    :param column: The original binary column (True/False).\n",
        "    :param privacy_parameter: Privacy parameter (smaller values provide stronger privacy).\n",
        "    :return: Noisy binary column.\n",
        "    \"\"\"\n",
        "    noisy_column = column.copy()\n",
        "    flip_prob = privacy_parameter / 2.0\n",
        "\n",
        "    for i in range(len(column)):\n",
        "        if np.random.rand() < flip_prob:\n",
        "            noisy_column[i] = not noisy_column[i]\n",
        "\n",
        "    return noisy_column\n",
        "\n",
        "\n"
      ]
    },
    {
      "cell_type": "code",
      "execution_count": null,
      "metadata": {
        "colab": {
          "base_uri": "https://localhost:8080/"
        },
        "id": "31ScvzkObg7a",
        "outputId": "2aa78a97-ebfa-423f-8287-a7005e09b869"
      },
      "outputs": [
        {
          "output_type": "stream",
          "name": "stdout",
          "text": [
            "Original DataFrame:\n",
            "                Name  Pregnancies  BloodPressure  SkinThickness  Insulin  \\\n",
            "0            shivani            6             72             35        0   \n",
            "1               isha            1             66             29        0   \n",
            "2    smt shyani devi            8             64              0        0   \n",
            "3              divya            1             66             23       94   \n",
            "4              mansi            0             40             35      168   \n",
            "..               ...          ...            ...            ...      ...   \n",
            "763            pooja           10             76             48      180   \n",
            "764            anita            2             70             27        0   \n",
            "765            neetu            5             72             23      112   \n",
            "766           anshu             1             60              0        0   \n",
            "767  kanika kathuria            1             70             31        0   \n",
            "\n",
            "      BMI  DiabetesPedigreeFunction  Glucose  Age  Outcome  \n",
            "0    33.6                     0.627      148   50     True  \n",
            "1    26.6                     0.351       85   31    False  \n",
            "2    23.3                     0.672      183   32     True  \n",
            "3    28.1                     0.167       89   21    False  \n",
            "4    43.1                     2.288      137   33     True  \n",
            "..    ...                       ...      ...  ...      ...  \n",
            "763  32.9                     0.171      101   63    False  \n",
            "764  36.8                     0.340      122   27    False  \n",
            "765  26.2                     0.245      121   30    False  \n",
            "766  30.1                     0.349      126   47     True  \n",
            "767  30.4                     0.315       93   23    False  \n",
            "\n",
            "[768 rows x 10 columns]\n",
            "\n",
            "DataFrame after applying randomized response:\n",
            "   Outcome  Outcome_noisy\n",
            "0     True           True\n",
            "1    False           True\n",
            "2     True          False\n",
            "3    False          False\n",
            "4     True           True\n"
          ]
        }
      ],
      "source": [
        "# Display the original DataFrame\n",
        "print(\"Original DataFrame:\")\n",
        "print(df)\n",
        "\n",
        "# Assuming you have a DataFrame 'df' with a column 'sensitive_data'\n",
        "privacy_parameter = 0.1  # Adjust as needed\n",
        "\n",
        "# Apply randomized response\n",
        "df['Outcome_noisy'] = apply_randomized_response(df['Outcome'], privacy_parameter)\n",
        "\n",
        "# Display the first few rows of the original and noisy columns\n",
        "print(\"\\nDataFrame after applying randomized response:\")\n",
        "print(df[['Outcome', 'Outcome_noisy']].head())"
      ]
    },
    {
      "cell_type": "code",
      "execution_count": null,
      "metadata": {
        "id": "4vRNQ6XTdoRL"
      },
      "outputs": [],
      "source": [
        "original_counts = df['Outcome'].value_counts()\n",
        "noisy_counts = df['Outcome_noisy'].value_counts()"
      ]
    },
    {
      "cell_type": "code",
      "execution_count": null,
      "metadata": {
        "id": "nxtFnSpdemIF"
      },
      "outputs": [],
      "source": [
        "total_true_original = df['Outcome'].sum()\n",
        "total_false_original = (~df['Outcome']).sum()\n",
        "\n",
        "total_true_noisy = df['Outcome_noisy'].sum()\n",
        "total_false_noisy = (~df['Outcome_noisy']).sum()"
      ]
    },
    {
      "cell_type": "code",
      "execution_count": null,
      "metadata": {
        "colab": {
          "base_uri": "https://localhost:8080/"
        },
        "id": "hQmVI1VTe7N_",
        "outputId": "7d40e889-9192-4c90-f91f-a7b6a6d39d22"
      },
      "outputs": [
        {
          "output_type": "stream",
          "name": "stdout",
          "text": [
            "\n",
            "Total Counts:\n",
            "Original True Count: 268\n",
            "Original False Count: 500\n",
            "Noisy True Count: 280\n",
            "Noisy False Count: 488\n"
          ]
        }
      ],
      "source": [
        "print(\"\\nTotal Counts:\")\n",
        "print(f\"Original True Count: {total_true_original}\")\n",
        "print(f\"Original False Count: {total_false_original}\")\n",
        "print(f\"Noisy True Count: {total_true_noisy}\")\n",
        "print(f\"Noisy False Count: {total_false_noisy}\")"
      ]
    },
    {
      "cell_type": "code",
      "execution_count": null,
      "metadata": {
        "colab": {
          "base_uri": "https://localhost:8080/",
          "height": 472
        },
        "id": "EtCCBEJReBKb",
        "outputId": "9fd67cb3-5043-4ad1-c0c7-8604f51c9f71"
      },
      "outputs": [
        {
          "output_type": "display_data",
          "data": {
            "text/plain": [
              "<Figure size 640x480 with 1 Axes>"
            ],
            "image/png": "[encoded data removed]"
          },
          "metadata": {}
        }
      ],
      "source": [
        "labels = ['True', 'False']\n",
        "original_values = [original_counts[True], original_counts[False]]\n",
        "noisy_values = [noisy_counts[True], noisy_counts[False]]\n",
        "\n",
        "bar_width = 0.35\n",
        "index = np.arange(len(labels))\n",
        "\n",
        "plt.bar(index, original_values, bar_width, label='Original')\n",
        "plt.bar(index + bar_width, noisy_values, bar_width, label='Noisy')\n",
        "\n",
        "plt.xlabel('Values')\n",
        "plt.ylabel('Count')\n",
        "plt.title('Comparison of True/False Counts with Randomized Response')\n",
        "plt.xticks(index + bar_width / 2, labels)\n",
        "plt.legend()\n",
        "\n",
        "plt.show()"
      ]
    }
  ],
  "metadata": {
    "colab": {
      "provenance": []
    },
    "kernelspec": {
      "display_name": "Python 3",
      "name": "python3"
    },
    "language_info": {
      "name": "python"
    }
  },
  "nbformat": 4,
  "nbformat_minor": 0
}